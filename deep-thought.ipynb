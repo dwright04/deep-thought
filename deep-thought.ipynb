{
 "cells": [
  {
   "cell_type": "markdown",
   "metadata": {
    "deletable": true,
    "editable": true
   },
   "source": [
    "# Deep Thought"
   ]
  },
  {
   "cell_type": "markdown",
   "metadata": {
    "deletable": true,
    "editable": true
   },
   "source": [
    "#### \"I think the problem, to be quite honest with you is that you've never actually known what the question was.\""
   ]
  },
  {
   "cell_type": "code",
   "execution_count": 1,
   "metadata": {
    "collapsed": true,
    "deletable": true,
    "editable": true
   },
   "outputs": [],
   "source": [
    "import numpy as np\n",
    "import matplotlib.pyplot as plt"
   ]
  },
  {
   "cell_type": "markdown",
   "metadata": {},
   "source": [
    "Here the aim is to address the weaknesses in the neural network architecture used in the [Machine Augmented Classification notebook](https://nbviewer.jupyter.org/github/dwright04/machine_augmented_classification/blob/master/Machine_Augmented_Classification.ipynb).  The name (Deep Thought) is motivated by the fact that in the first place we don't need to know the best questions to ask at the outset.\n",
    "\n",
    "There we discussed clustering the data, then querying volunteers for a meaning or label for each cluster.  We then train a CNN only on the data that was assigned a label.  The objective of the CNN is then to optimise the categorical cross entropy loss:\n",
    "\n",
    "$$-\\sum_{i}{} \\hat{y}_{i}log(y_{i})$$\n",
    "\n",
    "where $\\hat{y}_{i}$ is the target or label for the i-th subject provided to the CNN and $y_{i}$ is the CNN predicted probability for that class."
   ]
  },
  {
   "cell_type": "code",
   "execution_count": 2,
   "metadata": {
    "collapsed": false
   },
   "outputs": [],
   "source": [
    "def categorical_cross_entropy(y_true, y_pred):\n",
    "    return -np.sum(y_true*np.log(y_pred))"
   ]
  },
  {
   "cell_type": "code",
   "execution_count": 3,
   "metadata": {
    "collapsed": false
   },
   "outputs": [
    {
     "data": {
      "image/png": "[encoded data removed]",
      "text/plain": [
       "<matplotlib.figure.Figure at 0x107aa13c8>"
      ]
     },
     "metadata": {},
     "output_type": "display_data"
    }
   ],
   "source": [
    "y_true = 1 # target/label provided to the CNN\n",
    "y_preds = np.arange(0.01,1.01,0.01) # range of CNN predictions\n",
    "cost = []\n",
    "for y_pred in y_preds:\n",
    "  cost.append(categorical_cross_entropy(y_true, y_pred))\n",
    "plt.figure(figsize=(10,10))\n",
    "plt.plot(y_preds, cost, 'o')\n",
    "plt.ylabel('categorical cross entropy')\n",
    "plt.xlabel('y_pred')\n",
    "plt.show()"
   ]
  },
  {
   "cell_type": "markdown",
   "metadata": {},
   "source": [
    "The categorical cross entropy is minimised when the output of the network is close to the target value (label).  All the layers of the CNN prior to the output layer learn a new representation of the data such that the classifiation layer can predict a value as close to the target as possible.\n",
    "\n",
    "There are a couple of problems with this:\n",
    "\n",
    "1) By asking volunteers to assign one of a predefined set of labels to a cluster the CNN must learn a representation that can combine clusters lying in different regions of feature space.\n",
    "\n",
    "\n",
    "2) The network only learns about labelled subjects.  For example, previously the CNN knows nothing about subjects assigned to a meaningless/dissolved cluster.  The learned representation is not necessarily improved in a useful way for these subjects."
   ]
  },
  {
   "cell_type": "markdown",
   "metadata": {},
   "source": [
    "### Replicate some of the MNIST analysis here for illustration"
   ]
  },
  {
   "cell_type": "code",
   "execution_count": 4,
   "metadata": {
    "collapsed": false,
    "deletable": true,
    "editable": true
   },
   "outputs": [
    {
     "name": "stderr",
     "output_type": "stream",
     "text": [
      "Using TensorFlow backend.\n"
     ]
    }
   ],
   "source": [
    "from keras.datasets import mnist\n",
    " \n",
    "# Load pre-shuffled MNIST data into train and test sets\n",
    "(x_train, y_train), (x_test, y_test) = mnist.load_data()\n",
    "\n",
    "# flatten the images for clustering\n",
    "x_train_flattened = np.reshape(x_train, (x_train.shape[0], x_train.shape[1]*x_train.shape[2]))\n",
    "\n",
    "# limit the number of examples to 10000 to spend up this test\n",
    "x_train = x_train[:10000]\n",
    "x_train_flattened = x_train_flattened[:10000]\n",
    "y_train = y_train[:10000]"
   ]
  },
  {
   "cell_type": "code",
   "execution_count": 5,
   "metadata": {
    "collapsed": true,
    "deletable": true,
    "editable": true
   },
   "outputs": [],
   "source": [
    "from sklearn.cluster import AgglomerativeClustering"
   ]
  },
  {
   "cell_type": "code",
   "execution_count": 6,
   "metadata": {
    "collapsed": false,
    "deletable": true,
    "editable": true
   },
   "outputs": [
    {
     "data": {
      "text/plain": [
       "AgglomerativeClustering(affinity='euclidean', compute_full_tree='auto',\n",
       "            connectivity=None, linkage='ward', memory=None, n_clusters=100,\n",
       "            pooling_func=<function mean at 0x1066a3950>)"
      ]
     },
     "execution_count": 6,
     "metadata": {},
     "output_type": "execute_result"
    }
   ],
   "source": [
    "n_clusters = 100\n",
    "clustering = AgglomerativeClustering(n_clusters=n_clusters)\n",
    "clustering.fit(x_train_flattened)"
   ]
  },
  {
   "cell_type": "code",
   "execution_count": 7,
   "metadata": {
    "collapsed": false,
    "deletable": true,
    "editable": true
   },
   "outputs": [],
   "source": [
    "from keras.utils import np_utils\n",
    "\n",
    "one_hot_encoded = np_utils.to_categorical(y_train, 10)\n",
    "\n",
    "stdevs = []\n",
    "sizes = []\n",
    "dominant_cluster_class_fractions = []\n",
    "for cluster in range(n_clusters):\n",
    "  cluster_indices = np.where(clustering.labels_ == cluster)[0]\n",
    "  n_assigned_examples = cluster_indices.shape[0]\n",
    "  cluster_labels = one_hot_encoded[cluster_indices]\n",
    "  cluster_label_fractions = np.mean(cluster_labels, axis=0)\n",
    "  dominant_cluster_class = np.argmax(cluster_label_fractions)\n",
    "  sizes.append(n_assigned_examples)\n",
    "  stdevs.append(np.std(x_train[cluster_indices]))\n",
    "  dominant_cluster_class_fractions.append(cluster_label_fractions[dominant_cluster_class])"
   ]
  },
  {
   "cell_type": "markdown",
   "metadata": {},
   "source": [
    "So far we have clustered the data based on the raw pixels.  Lets compare the number of examples assigned to a cluster compared to the variance of the cluster.  A smaller variance could imply a more tightly defined meaning for that cluster."
   ]
  },
  {
   "cell_type": "code",
   "execution_count": 8,
   "metadata": {
    "collapsed": false,
    "deletable": true,
    "editable": true
   },
   "outputs": [
    {
     "data": {
      "text/plain": [
       "<matplotlib.figure.Figure at 0x11a3347f0>"
      ]
     },
     "metadata": {},
     "output_type": "display_data"
    },
    {
     "data": {
      "image/png": "[encoded data removed]",
      "text/plain": [
       "<matplotlib.figure.Figure at 0x11a326240>"
      ]
     },
     "metadata": {},
     "output_type": "display_data"
    }
   ],
   "source": [
    "plt.clf()\n",
    "plt.figure(figsize=(10,10))\n",
    "plt.scatter(sizes, stdevs)\n",
    "plt.xlabel('number examples assigned to cluster')\n",
    "plt.ylabel('stdev of examples assigned to cluster')\n",
    "plt.show()"
   ]
  },
  {
   "cell_type": "markdown",
   "metadata": {},
   "source": [
    "Larger clusters do tend to have a smaller variance.  This is a useful idea.\n",
    "\n",
    "Intuitively it seems that optimising the learned representation of a CNN for cluster variance might be a good idea.  The CNN need no longer learn that clusters in different regions of feature space must be assigned the same class label.  We could optimise for a feature space that forces subjects in a meaningful cluster closer together.  Analogous to telling someone they have a great idea and should hold on to it ;)\n",
    "\n",
    "Get the *euclidean* distances of all subjects not in cluster 5 (which has standard deviation 65.3) from the mean of cluster 5."
   ]
  },
  {
   "cell_type": "code",
   "execution_count": 9,
   "metadata": {
    "collapsed": false,
    "deletable": true,
    "editable": true
   },
   "outputs": [
    {
     "name": "stdout",
     "output_type": "stream",
     "text": [
      "cluster 5 standard deviation = 65.3062647264\n"
     ]
    }
   ],
   "source": [
    "K=5\n",
    "print('cluster 5 standard deviation = ' + str(stdevs[K]))\n",
    "try:\n",
    "  del X\n",
    "except NameError:\n",
    "  pass\n",
    "\n",
    "for cluster in range(n_clusters):\n",
    "  cluster_indices = np.where(clustering.labels_ == cluster)[0]\n",
    "  if cluster == K:\n",
    "    K_mean = np.mean(x_train_flattened[cluster_indices], axis=0)\n",
    "    continue\n",
    "  x = x_train_flattened[cluster_indices]\n",
    "  try:\n",
    "    X = np.concatenate((X,x))\n",
    "  except NameError:\n",
    "    X = x"
   ]
  },
  {
   "cell_type": "code",
   "execution_count": 10,
   "metadata": {
    "collapsed": true,
    "deletable": true,
    "editable": true
   },
   "outputs": [],
   "source": [
    "import numpy.linalg as linalg "
   ]
  },
  {
   "cell_type": "markdown",
   "metadata": {},
   "source": [
    "Plot the distribution of *euclidean* distances of subjects in cluster 5 from the mean of the cluster."
   ]
  },
  {
   "cell_type": "code",
   "execution_count": 11,
   "metadata": {
    "collapsed": false,
    "deletable": true,
    "editable": true
   },
   "outputs": [
    {
     "name": "stdout",
     "output_type": "stream",
     "text": [
      "[ 2628.22426955  3162.10679989  2984.41961812 ...,  2579.48358812\n",
      "  2406.50180558  2317.07582742]\n"
     ]
    },
    {
     "data": {
      "image/png": "[encoded data removed]",
      "text/plain": [
       "<matplotlib.figure.Figure at 0x107b48a90>"
      ]
     },
     "metadata": {},
     "output_type": "display_data"
    }
   ],
   "source": [
    "k_mean_euclidean_distances = linalg.norm(K_mean-X, axis=1)\n",
    "print(k_mean_euclidean_distances)\n",
    "plt.figure(figsize=(10,10))\n",
    "plt.hist(np.log(k_mean_euclidean_distances))\n",
    "plt.xlabel('log euclidean distance of subjects from cluster K')\n",
    "plt.ylabel('frequency')\n",
    "plt.show()"
   ]
  },
  {
   "cell_type": "markdown",
   "metadata": {},
   "source": [
    "Now do the same for cluster 52 with standard deviation 99.2"
   ]
  },
  {
   "cell_type": "code",
   "execution_count": 12,
   "metadata": {
    "collapsed": false,
    "deletable": true,
    "editable": true
   },
   "outputs": [
    {
     "name": "stdout",
     "output_type": "stream",
     "text": [
      "cluster 52 standard deviation = 99.1879284883\n"
     ]
    }
   ],
   "source": [
    "K=52\n",
    "print('cluster 52 standard deviation = ' + str(stdevs[K]))\n",
    "try:\n",
    "  del X\n",
    "except NameError:\n",
    "  pass\n",
    "\n",
    "for cluster in range(n_clusters):\n",
    "  cluster_indices = np.where(clustering.labels_ == cluster)[0]\n",
    "  if cluster == K:\n",
    "    K_mean = np.mean(x_train_flattened[cluster_indices], axis=0)\n",
    "    continue\n",
    "  x = x_train_flattened[cluster_indices]\n",
    "  try:\n",
    "    X = np.concatenate((X,x))\n",
    "  except NameError:\n",
    "    X = x"
   ]
  },
  {
   "cell_type": "code",
   "execution_count": 13,
   "metadata": {
    "collapsed": false,
    "deletable": true,
    "editable": true
   },
   "outputs": [
    {
     "name": "stdout",
     "output_type": "stream",
     "text": [
      "[ 1716.55345644  1943.80373254  2151.95551922 ...,  2634.68988671\n",
      "  2739.583901    2782.82605088]\n"
     ]
    },
    {
     "data": {
      "image/png": "[encoded data removed]",
      "text/plain": [
       "<matplotlib.figure.Figure at 0x11e21b438>"
      ]
     },
     "metadata": {},
     "output_type": "display_data"
    }
   ],
   "source": [
    "k_mean_euclidean_distances = linalg.norm(K_mean-X, axis=1)\n",
    "print(k_mean_euclidean_distances)\n",
    "plt.figure(figsize=(10,10))\n",
    "plt.hist(np.log(k_mean_euclidean_distances))\n",
    "plt.xlabel('log euclidean distance of subjects from cluster K')\n",
    "plt.ylabel('frequency')\n",
    "plt.show()"
   ]
  },
  {
   "cell_type": "markdown",
   "metadata": {},
   "source": [
    "The means of the two clusters appear to be a similar distance from all subjects not in the cluster.  This would be difficult for a CNN to optimise because the vast majority of subjects look the same from the euclidean distance perspective.  The reason for this is that euclidean distance becomes less meaningufl as the dimensionality of the data increases."
   ]
  },
  {
   "cell_type": "markdown",
   "metadata": {
    "deletable": true,
    "editable": true
   },
   "source": [
    "https://www.youtube.com/watch?v=u0z6hs0_iV8&index=2&list=PLTrfCHV_YfzwH-tw5iUgPGzbfqdLwU0UO"
   ]
  },
  {
   "cell_type": "markdown",
   "metadata": {},
   "source": [
    "### Aside : Euclidean distance in high dimensional space."
   ]
  },
  {
   "cell_type": "markdown",
   "metadata": {},
   "source": [
    "To demonstrate this consider the volume enclosed by the N-ball with radius R in n-dimensional space compared to the volume of the hyper cube enclosing it with vertices of length 2R."
   ]
  },
  {
   "cell_type": "code",
   "execution_count": 14,
   "metadata": {
    "collapsed": false,
    "deletable": true,
    "editable": true
   },
   "outputs": [
    {
     "data": {
      "image/png": "[encoded data removed]",
      "text/plain": [
       "<matplotlib.figure.Figure at 0x135d16240>"
      ]
     },
     "metadata": {},
     "output_type": "display_data"
    }
   ],
   "source": [
    "from scipy.special import gamma\n",
    "\n",
    "def calculateNBallVolume(n, R=2):\n",
    "  return (np.power(np.pi, n/2.)/(gamma((n/2.)+1)))*np.power(R,n)\n",
    "\n",
    "def calculateHyperCubeVolume(n, R=2):\n",
    "  return np.power(2*R,n)\n",
    "\n",
    "plt.figure(figsize=(10,10))\n",
    "for n in range(2,11):\n",
    "  plt.scatter(n, calculateHyperCubeVolume(n) / calculateNBallVolume(n), color='b')\n",
    "plt.xlabel('dimensions')\n",
    "plt.ylabel('volume outside N-Ball / volume inside N-Ball')\n",
    "plt.show()"
   ]
  },
  {
   "cell_type": "markdown",
   "metadata": {},
   "source": [
    "As dimensionality increases the volume outside the sphere grows much more quickly and data points appear more equidistant.  Consider the same data projects in to 3 dimensions."
   ]
  },
  {
   "cell_type": "code",
   "execution_count": 15,
   "metadata": {
    "collapsed": true,
    "deletable": true,
    "editable": true
   },
   "outputs": [],
   "source": [
    "from sklearn.decomposition import PCA"
   ]
  },
  {
   "cell_type": "code",
   "execution_count": 16,
   "metadata": {
    "collapsed": true,
    "deletable": true,
    "editable": true
   },
   "outputs": [],
   "source": [
    "pca = PCA(n_components=3)\n",
    "x_train_flattened_pca = pca.fit_transform(x_train_flattened)"
   ]
  },
  {
   "cell_type": "code",
   "execution_count": 17,
   "metadata": {
    "collapsed": false,
    "deletable": true,
    "editable": true
   },
   "outputs": [],
   "source": [
    "from keras.utils import np_utils\n",
    "\n",
    "one_hot_encoded = np_utils.to_categorical(y_train, 10)\n",
    "\n",
    "stdevs = []\n",
    "sizes = []\n",
    "dominant_cluster_class_fractions = []\n",
    "for cluster in range(n_clusters):\n",
    "  cluster_indices = np.where(clustering.labels_ == cluster)[0]\n",
    "  n_assigned_examples = cluster_indices.shape[0]\n",
    "  cluster_labels = one_hot_encoded[cluster_indices]\n",
    "  cluster_label_fractions = np.mean(cluster_labels, axis=0)\n",
    "  dominant_cluster_class = np.argmax(cluster_label_fractions)\n",
    "  sizes.append(n_assigned_examples)\n",
    "  stdevs.append(np.std(x_train[cluster_indices]))\n",
    "  dominant_cluster_class_fractions.append(cluster_label_fractions[dominant_cluster_class])\n",
    "  #print(cluster, n_assigned_examples, dominant_cluster_class, cluster_label_fractions[dominant_cluster_class])\n",
    "    "
   ]
  },
  {
   "cell_type": "markdown",
   "metadata": {},
   "source": [
    "Plot the euclidean distance of the mean of cluster 5 from all subjects not in cluster 5 again."
   ]
  },
  {
   "cell_type": "code",
   "execution_count": 18,
   "metadata": {
    "collapsed": false,
    "deletable": true,
    "editable": true
   },
   "outputs": [],
   "source": [
    "try:\n",
    "  del X\n",
    "except NameError:\n",
    "  pass\n",
    "\n",
    "K=5\n",
    "for cluster in range(n_clusters):\n",
    "  cluster_indices = np.where(clustering.labels_ == cluster)[0]\n",
    "  if cluster == K:\n",
    "    K_mean = np.mean(x_train_flattened_pca[cluster_indices], axis=0)\n",
    "    continue\n",
    "  x = x_train_flattened_pca[cluster_indices]\n",
    "  try:\n",
    "    X = np.concatenate((X,x))\n",
    "  except NameError:\n",
    "    X = x"
   ]
  },
  {
   "cell_type": "code",
   "execution_count": 19,
   "metadata": {
    "collapsed": false,
    "deletable": true,
    "editable": true
   },
   "outputs": [
    {
     "name": "stdout",
     "output_type": "stream",
     "text": [
      "[ 1884.4157084   2516.12121042  2033.78751134 ...,  1558.23312408\n",
      "  1492.31644314  1509.55468823]\n"
     ]
    },
    {
     "data": {
      "image/png": "[encoded data removed]",
      "text/plain": [
       "<matplotlib.figure.Figure at 0x107bae9b0>"
      ]
     },
     "metadata": {},
     "output_type": "display_data"
    }
   ],
   "source": [
    "k_mean_euclidean_distances = linalg.norm(K_mean-X, axis=1)\n",
    "print(k_mean_euclidean_distances)\n",
    "plt.figure(figsize=(10,10))\n",
    "plt.hist(np.log(k_mean_euclidean_distances))\n",
    "plt.xlabel('log euclidean distance of subjects from cluster K')\n",
    "plt.ylabel('frequency')\n",
    "plt.show()"
   ]
  },
  {
   "cell_type": "markdown",
   "metadata": {},
   "source": [
    "The distances now span 4 orders of magnitude compared to 1 in 400-dimensional space.\n",
    "\n",
    "And again for cluster 52."
   ]
  },
  {
   "cell_type": "code",
   "execution_count": 20,
   "metadata": {
    "collapsed": true,
    "deletable": true,
    "editable": true
   },
   "outputs": [],
   "source": [
    "try:\n",
    "  del X\n",
    "except NameError:\n",
    "  pass\n",
    "\n",
    "K=52\n",
    "for cluster in range(n_clusters):\n",
    "  cluster_indices = np.where(clustering.labels_ == cluster)[0]\n",
    "  if cluster == K:\n",
    "    K_mean = np.mean(x_train_flattened_pca[cluster_indices], axis=0)\n",
    "    continue\n",
    "  x = x_train_flattened_pca[cluster_indices]\n",
    "  try:\n",
    "    X = np.concatenate((X,x))\n",
    "  except NameError:\n",
    "    X = x"
   ]
  },
  {
   "cell_type": "code",
   "execution_count": 21,
   "metadata": {
    "collapsed": false,
    "deletable": true,
    "editable": true
   },
   "outputs": [
    {
     "name": "stdout",
     "output_type": "stream",
     "text": [
      "[  585.46038875   438.96654194   347.85114371 ...,  1355.91271972\n",
      "  1614.17366293  1772.28399376]\n"
     ]
    },
    {
     "data": {
      "image/png": "[encoded data removed]",
      "text/plain": [
       "<matplotlib.figure.Figure at 0x11a7631d0>"
      ]
     },
     "metadata": {},
     "output_type": "display_data"
    }
   ],
   "source": [
    "k_mean_euclidean_distances = linalg.norm(K_mean-X, axis=1)\n",
    "print(k_mean_euclidean_distances)\n",
    "plt.figure(figsize=(10,10))\n",
    "plt.hist(np.log(k_mean_euclidean_distances))\n",
    "plt.xlabel('log euclidean distance of subjects from cluster K')\n",
    "plt.ylabel('frequency')\n",
    "plt.show()"
   ]
  },
  {
   "cell_type": "markdown",
   "metadata": {},
   "source": [
    "## Mahalanobis  distance\n",
    "\n",
    "Below is work in progress. The idea is to define a cost function that is optimised to reduce the *Mahalanobis* distance between incluster points and to increase the inter cluster distance.  This is similar to the cost function of Linear Disriminant Analysis (LDA).  I am modifying it here to also treat subjects in meaningless clusters as individual clusters themselves.  This is waht I have so far.  Though it likely makes more sense to treat subjects in meaningless clusters slightly differently by ensuring that the distance between them is increased, but the distance from meaning clusters is not penalised.\n",
    "\n",
    "Note: inter-cluster distance is defined as the distance from the mean of all the data.  (This should likely also be modified)."
   ]
  },
  {
   "cell_type": "markdown",
   "metadata": {
    "deletable": true,
    "editable": true
   },
   "source": [
    "https://www.youtube.com/watch?v=2l5lKrU8iMA&list=PLTrfCHV_YfzwH-tw5iUgPGzbfqdLwU0UO&index=5"
   ]
  },
  {
   "cell_type": "code",
   "execution_count": 22,
   "metadata": {
    "collapsed": false
   },
   "outputs": [],
   "source": [
    "from scipy.linalg import eigh, det\n",
    "# y_true is the cluster assignments, -1 if cluster has no meaning.\n",
    "# y_pred logits of the output layer.\n",
    "def custom_objective(y_true, y_pred):\n",
    "  labels = np.unique(y_true)[1:] # get all meaningful clusters\n",
    "  total_mean = np.mean(y_pred, axis=0)[np.newaxis] #get the mean of the entire data set\n",
    "  in_cluster_cost = 0\n",
    "  between_cluster_cost = 0\n",
    "  # for each meaningful cluster (here labels <=> clusters) calculate the in cluster cost and inter-cluster cost \n",
    "  for label in labels:\n",
    "    cluster_mean = np.mean(y_pred[np.where(y_true==label)], axis=0)[np.newaxis]\n",
    "    cluster_scatter = np.dot((y_pred[np.where(y_true==label)]-cluster_mean).T,(y_pred[np.where(y_true==label)]-cluster_mean))\n",
    "    in_cluster_cost += cluster_scatter\n",
    "    n = np.where(y_true==label)[0].shape[0]\n",
    "    between_cluster_cost += n*np.dot((cluster_mean-total_mean).T,(cluster_mean-total_mean))\n",
    "  # for each unassigned subject add it's inter-cluster distance to the inter-cluster cost\n",
    "  for i in range(y_true.shape[0]):\n",
    "    if y_true[i] == -1:\n",
    "      between_cluster_cost += np.dot((y_pred[i]-total_mean).T, (y_pred[i]-total_mean))\n",
    "  eigvals, eigvecs = eigh(in_cluster_cost, between_cluster_cost, eigvals_only=False)\n",
    "  # replicate the LDA cost function, but take the inverse as we want to minimise not maximise\n",
    "  cost =  det(np.dot(np.dot(eigvecs.T, in_cluster_cost), eigvecs)) \\\n",
    "        / det(np.dot(np.dot(eigvecs.T, between_cluster_cost), eigvecs))\n",
    "  return cost"
   ]
  },
  {
   "cell_type": "markdown",
   "metadata": {},
   "source": [
    "Mock up some data."
   ]
  },
  {
   "cell_type": "code",
   "execution_count": 23,
   "metadata": {
    "collapsed": false
   },
   "outputs": [
    {
     "name": "stdout",
     "output_type": "stream",
     "text": [
      "[[ 0.70102759  0.53790198]\n",
      " [ 0.36204868  0.17393892]\n",
      " [ 0.00114417  0.2888707 ]\n",
      " [ 0.77351608  0.62439019]\n",
      " [ 0.3642258   0.04504367]\n",
      " [ 0.90460141  0.99070312]\n",
      " [ 0.69283559  0.01640751]\n",
      " [ 0.12300966  0.74275005]]\n",
      "[-1 -1  0  0  1  1  1  1]\n"
     ]
    }
   ],
   "source": [
    "# below represents the output of the CNN.  8 subjects have been projected into some feature space\n",
    "y_pred = np.random.random((8,2))\n",
    "print(y_pred)\n",
    "# below represents the cluster result of clustering and querying volunteers.\n",
    "# subjects 1 and 2 don't belong to a meaningful cluster\n",
    "# subjects 3 and 4 belong to a meaningful cluster which has been labelled 0\n",
    "# subjects 5 to 8 belong to a meaningful cluster which has been labelled 1\n",
    "y_true = np.array([-1,-1,0,0,1,1,1,1])\n",
    "print(y_true)"
   ]
  },
  {
   "cell_type": "markdown",
   "metadata": {},
   "source": [
    "Lets test the cost function.  The subjects have been (artificially) clustered despite being randomly distributed in the feature space so the cost should be high."
   ]
  },
  {
   "cell_type": "code",
   "execution_count": 24,
   "metadata": {
    "collapsed": false
   },
   "outputs": [
    {
     "data": {
      "text/plain": [
       "114.87508584182805"
      ]
     },
     "execution_count": 24,
     "metadata": {},
     "output_type": "execute_result"
    }
   ],
   "source": [
    "custom_objective(y_true, y_pred)"
   ]
  },
  {
   "cell_type": "markdown",
   "metadata": {},
   "source": [
    "Now lets manually improve the scatter in the subjects belonging to cluster 0.  By setting these subjects to the same position in the feature space the cost should decrease."
   ]
  },
  {
   "cell_type": "code",
   "execution_count": 25,
   "metadata": {
    "collapsed": true
   },
   "outputs": [],
   "source": [
    "y_pred_improved = y_pred.copy()"
   ]
  },
  {
   "cell_type": "code",
   "execution_count": 26,
   "metadata": {
    "collapsed": false
   },
   "outputs": [
    {
     "name": "stdout",
     "output_type": "stream",
     "text": [
      "[[ 0.70102759  0.53790198]\n",
      " [ 0.36204868  0.17393892]\n",
      " [ 0.          0.        ]\n",
      " [ 0.          0.        ]\n",
      " [ 0.3642258   0.04504367]\n",
      " [ 0.90460141  0.99070312]\n",
      " [ 0.69283559  0.01640751]\n",
      " [ 0.12300966  0.74275005]]\n"
     ]
    }
   ],
   "source": [
    "indices_zeros = np.where(y_true==0)[0]\n",
    "y_pred_improved[indices_zeros] = 0\n",
    "print(y_pred_improved)"
   ]
  },
  {
   "cell_type": "code",
   "execution_count": 27,
   "metadata": {
    "collapsed": false
   },
   "outputs": [
    {
     "data": {
      "text/plain": [
       "30.960574637840622"
      ]
     },
     "execution_count": 27,
     "metadata": {},
     "output_type": "execute_result"
    }
   ],
   "source": [
    "custom_objective(y_true, y_pred_improved)"
   ]
  },
  {
   "cell_type": "markdown",
   "metadata": {},
   "source": [
    "Try that again for examples in cluster 1.  There are more subjects in cluster 1 so the cost should be lower again."
   ]
  },
  {
   "cell_type": "code",
   "execution_count": 28,
   "metadata": {
    "collapsed": true
   },
   "outputs": [],
   "source": [
    "y_pred_improved = y_pred.copy()"
   ]
  },
  {
   "cell_type": "code",
   "execution_count": 29,
   "metadata": {
    "collapsed": false
   },
   "outputs": [
    {
     "name": "stdout",
     "output_type": "stream",
     "text": [
      "[[ 0.70102759  0.53790198]\n",
      " [ 0.36204868  0.17393892]\n",
      " [ 0.00114417  0.2888707 ]\n",
      " [ 0.77351608  0.62439019]\n",
      " [ 0.          0.        ]\n",
      " [ 0.          0.        ]\n",
      " [ 0.          0.        ]\n",
      " [ 0.          0.        ]]\n"
     ]
    }
   ],
   "source": [
    "indices_zeros = np.where(y_true==1)[0]\n",
    "y_pred_improved[indices_zeros] = 0\n",
    "print(y_pred_improved)"
   ]
  },
  {
   "cell_type": "code",
   "execution_count": 30,
   "metadata": {
    "collapsed": false
   },
   "outputs": [
    {
     "data": {
      "text/plain": [
       "-1.5965242740415756e-16"
      ]
     },
     "execution_count": 30,
     "metadata": {},
     "output_type": "execute_result"
    }
   ],
   "source": [
    "custom_objective(y_true, y_pred_improved)"
   ]
  },
  {
   "cell_type": "markdown",
   "metadata": {},
   "source": [
    "Now what happens if we increase the distance between subjects not assigned to a meaningful cluster i.e. subjects 1 and 2"
   ]
  },
  {
   "cell_type": "code",
   "execution_count": 31,
   "metadata": {
    "collapsed": true
   },
   "outputs": [],
   "source": [
    "y_pred_improved = y_pred.copy()"
   ]
  },
  {
   "cell_type": "code",
   "execution_count": 32,
   "metadata": {
    "collapsed": false
   },
   "outputs": [
    {
     "name": "stdout",
     "output_type": "stream",
     "text": [
      "[[-1.          1.        ]\n",
      " [-1.          1.        ]\n",
      " [ 0.00114417  0.2888707 ]\n",
      " [ 0.77351608  0.62439019]\n",
      " [ 0.3642258   0.04504367]\n",
      " [ 0.90460141  0.99070312]\n",
      " [ 0.69283559  0.01640751]\n",
      " [ 0.12300966  0.74275005]]\n"
     ]
    }
   ],
   "source": [
    "indices_zeros = np.where(y_true==-1)[0]\n",
    "y_pred_improved[indices_zeros,0] = -1\n",
    "y_pred_improved[indices_zeros,1] = 1\n",
    "print(y_pred_improved)"
   ]
  },
  {
   "cell_type": "code",
   "execution_count": 33,
   "metadata": {
    "collapsed": false
   },
   "outputs": [
    {
     "data": {
      "text/plain": [
       "62.071670933233776"
      ]
     },
     "execution_count": 33,
     "metadata": {},
     "output_type": "execute_result"
    }
   ],
   "source": [
    "custom_objective(y_true, y_pred_improved)"
   ]
  },
  {
   "cell_type": "markdown",
   "metadata": {},
   "source": [
    "Now decrease the distance between subjects 1 and 2, this should increase the cost."
   ]
  },
  {
   "cell_type": "code",
   "execution_count": 34,
   "metadata": {
    "collapsed": false
   },
   "outputs": [
    {
     "name": "stdout",
     "output_type": "stream",
     "text": [
      "[[ 0.          0.        ]\n",
      " [ 0.          0.        ]\n",
      " [ 0.00114417  0.2888707 ]\n",
      " [ 0.77351608  0.62439019]\n",
      " [ 0.3642258   0.04504367]\n",
      " [ 0.90460141  0.99070312]\n",
      " [ 0.69283559  0.01640751]\n",
      " [ 0.12300966  0.74275005]]\n"
     ]
    }
   ],
   "source": [
    "y_pred_improved[indices_zeros,:] = 0\n",
    "print(y_pred_improved)"
   ]
  },
  {
   "cell_type": "code",
   "execution_count": 35,
   "metadata": {
    "collapsed": false
   },
   "outputs": [
    {
     "data": {
      "text/plain": [
       "57.481331478868405"
      ]
     },
     "execution_count": 35,
     "metadata": {},
     "output_type": "execute_result"
    }
   ],
   "source": [
    "custom_objective(y_true, y_pred_improved)"
   ]
  },
  {
   "cell_type": "markdown",
   "metadata": {},
   "source": [
    "Lets try it out the MNIST clustering"
   ]
  },
  {
   "cell_type": "code",
   "execution_count": 36,
   "metadata": {
    "collapsed": false
   },
   "outputs": [
    {
     "data": {
      "text/plain": [
       "0.01929167158971025"
      ]
     },
     "execution_count": 36,
     "metadata": {},
     "output_type": "execute_result"
    }
   ],
   "source": [
    "custom_objective(clustering.labels_, x_train_flattened_pca)"
   ]
  },
  {
   "cell_type": "markdown",
   "metadata": {},
   "source": [
    "Dissolve clusters with < 90% dominant class cluster membership"
   ]
  },
  {
   "cell_type": "code",
   "execution_count": 37,
   "metadata": {
    "collapsed": false
   },
   "outputs": [],
   "source": [
    "labels = clustering.labels_\n",
    "labels[np.where(np.array(dominant_cluster_class_fractions)<.9)] = -1"
   ]
  },
  {
   "cell_type": "code",
   "execution_count": 38,
   "metadata": {
    "collapsed": false
   },
   "outputs": [
    {
     "name": "stdout",
     "output_type": "stream",
     "text": [
      "[41 82 -1 ..., 96 47 45]\n"
     ]
    }
   ],
   "source": [
    "print(labels)"
   ]
  },
  {
   "cell_type": "code",
   "execution_count": 39,
   "metadata": {
    "collapsed": false
   },
   "outputs": [
    {
     "data": {
      "text/plain": [
       "0.018128626399168363"
      ]
     },
     "execution_count": 39,
     "metadata": {},
     "output_type": "execute_result"
    }
   ],
   "source": [
    "custom_objective(labels, x_train_flattened_pca)"
   ]
  },
  {
   "cell_type": "code",
   "execution_count": null,
   "metadata": {
    "collapsed": true
   },
   "outputs": [],
   "source": []
  }
 ],
 "metadata": {
  "kernelspec": {
   "display_name": "Python 3",
   "language": "python",
   "name": "python3"
  },
  "language_info": {
   "codemirror_mode": {
    "name": "ipython",
    "version": 3
   },
   "file_extension": ".py",
   "mimetype": "text/x-python",
   "name": "python",
   "nbconvert_exporter": "python",
   "pygments_lexer": "ipython3",
   "version": "3.6.0"
  }
 },
 "nbformat": 4,
 "nbformat_minor": 2
}
